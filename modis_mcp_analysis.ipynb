{
 "cells": [
  {
   "cell_type": "markdown",
   "metadata": {},
   "source": [
    "# MODIS Raster Analysis\n",
    "Analysis of MODIS snow albedo data with temporal pixel tracking"
   ]
  },
  {
   "cell_type": "code",
   "execution_count": null,
   "metadata": {},
   "outputs": [],
   "source": [
    "import rasterio\n",
    "import numpy as np\n",
    "import matplotlib.pyplot as plt\n",
    "from pathlib import Path\n",
    "import pandas as pd"
   ]
  },
  {
   "cell_type": "markdown",
   "metadata": {},
   "source": [
    "## Database Overview"
   ]
  },
  {
   "cell_type": "code",
   "execution_count": null,
   "metadata": {},
   "outputs": [],
   "source": [
    "# Query database for available datasets\n",
    "# Use MCP PostgreSQL tools to run this query:\n",
    "# SELECT dataset_name, COUNT(*) as count FROM raster_data GROUP BY dataset_name ORDER BY count DESC;"
   ]
  },
  {
   "cell_type": "markdown",
   "metadata": {},
   "source": [
    "## Real Raster Visualization"
   ]
  },
  {
   "cell_type": "code",
   "execution_count": null,
   "metadata": {},
   "outputs": [],
   "source": [
    "# Load real MODIS raster file\n",
    "raster_path = \"modis_melt_season_2017_2024/clipped/2017-06-03_MOD10A1.A2017154.h10v03.061.2021273084644_Snow_Albedo_Daily_Tile.tif\"\n",
    "\n",
    "with rasterio.open(raster_path) as src:\n",
    "    data = src.read(1)\n",
    "    \n",
    "plt.figure(figsize=(12, 8))\n",
    "plt.imshow(data, cmap='viridis')\n",
    "plt.colorbar(label='Albedo')\n",
    "plt.title('MODIS Snow Albedo - 2017-06-03')\n",
    "plt.show()"
   ]
  },
  {
   "cell_type": "markdown",
   "metadata": {},
   "source": [
    "## Daily Albedo Change (Melt Season 2017-2018)"
   ]
  },
  {
   "cell_type": "code",
   "execution_count": null,
   "metadata": {},
   "outputs": [],
   "source": [
    "# Load multiple rasters for temporal analysis\n",
    "clipped_dir = Path(\"modis_melt_season_2017_2024/clipped\")\n",
    "raster_files = list(clipped_dir.glob(\"2017*Snow_Albedo*.tif\"))[:20]  # First 20 files\n",
    "\n",
    "dates = []\n",
    "mean_albedo = []\n",
    "\n",
    "for file in sorted(raster_files):\n",
    "    with rasterio.open(file) as src:\n",
    "        data = src.read(1)\n",
    "        valid_data = data[(data > 0) & (data < 100)]  # Filter valid albedo values\n",
    "        dates.append(file.stem.split('_')[0])\n",
    "        mean_albedo.append(np.mean(valid_data))\n",
    "\n",
    "# Convert to day of year for melt season visualization\n",
    "day_numbers = list(range(1, len(dates) + 1))\n",
    "\n",
    "plt.figure(figsize=(10, 6))\n",
    "plt.plot(day_numbers, mean_albedo, 'b-o', markersize=4)\n",
    "plt.xlabel('Day of Melt Season')\n",
    "plt.ylabel('Mean Albedo (%)')\n",
    "plt.title('Daily Albedo Change - Melt Season 2017')\n",
    "plt.grid(True, alpha=0.3)\n",
    "plt.show()"
   ]
  },
  {
   "cell_type": "markdown",
   "metadata": {},
   "source": [
    "## Database Raster Query"
   ]
  },
  {
   "cell_type": "code",
   "execution_count": null,
   "metadata": {},
   "outputs": [],
   "source": [
    "# Use MCP PostgreSQL to extract raster data:\n",
    "# SELECT (ST_PixelAsPoints(rast, 1)).*\n",
    "# FROM raster_data \n",
    "# WHERE dataset_name LIKE '%Snow_Albedo%'\n",
    "# AND date_acquired = '2017-06-03'\n",
    "# LIMIT 1000;"
   ]
  },
  {
   "cell_type": "markdown",
   "metadata": {},
   "source": [
    "## Temporal Pixel Analysis"
   ]
  },
  {
   "cell_type": "code",
   "execution_count": null,
   "metadata": {},
   "outputs": [],
   "source": [
    "# Query same pixel across time using MCP PostgreSQL:\n",
    "# SELECT \n",
    "#     date_acquired,\n",
    "#     ST_Value(rast, 1, 50, 30) as albedo_value\n",
    "# FROM raster_data \n",
    "# WHERE dataset_name LIKE '%Snow_Albedo%'\n",
    "# AND date_acquired BETWEEN '2017-06-01' AND '2017-08-31'\n",
    "# ORDER BY date_acquired;\n",
    "\n",
    "# Example visualization (replace with actual query results)\n",
    "example_dates = pd.date_range('2017-06-01', '2017-08-31', freq='5D')\n",
    "example_values = np.random.normal(50, 10, len(example_dates))\n",
    "\n",
    "plt.figure(figsize=(12, 6))\n",
    "plt.plot(example_dates, example_values, 'r-o', markersize=3)\n",
    "plt.xlabel('Date')\n",
    "plt.ylabel('Pixel Albedo Value')\n",
    "plt.title('Temporal Change of Single Pixel (Row 50, Col 30)')\n",
    "plt.xticks(rotation=45)\n",
    "plt.grid(True, alpha=0.3)\n",
    "plt.tight_layout()\n",
    "plt.show()"
   ]
  }
 ],
 "metadata": {
  "kernelspec": {
   "display_name": "Python 3",
   "language": "python",
   "name": "python3"
  },
  "language_info": {
   "codemirror_mode": {
    "name": "ipython",
    "version": 3
   },
   "file_extension": ".py",
   "mimetype": "text/x-python",
   "name": "python",
   "nbconvert_exporter": "python",
   "pygments_lexer": "ipython3",
   "version": "3.8.5"
  }
 },
 "nbformat": 4,
 "nbformat_minor": 4
}